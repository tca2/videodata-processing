{
    "cells": [
        {
            "cell_type": "code",
            "execution_count": 133,
            "source": [
                "import glob \n",
                "import pandas as pd\n",
                "from pathlib import Path\n",
                "import shutil\n",
                "import os \n",
                "import re\n",
                "\n",
                "pd.set_option('display.max_columns', None)  \n",
                "\n",
                "#CSVs = sorted(glob.glob('./Teacher_401/csv_processed/*csv'))\n",
                "CSVs = sorted(Path('./Teacher_401/csv_processed').glob('*.csv'))"
            ],
            "outputs": [],
            "metadata": {}
        },
        {
            "cell_type": "code",
            "execution_count": 52,
            "source": [
                "dataframes = []\n",
                "for file in CSVs:\n",
                "    df = pd.read_csv(file) # additional arguments up to your needs\n",
                "    df['source'] = file.name\n",
                "    dataframes.append(df)\n",
                "\n",
                "df_all = pd.concat(dataframes)\n"
            ],
            "outputs": [],
            "metadata": {}
        },
        {
            "cell_type": "code",
            "execution_count": 98,
            "source": [
                "sampledf = df_all.sample(40, random_state=138)\n",
                "\n",
                "for index, row in sampledf.iterrows():\n",
                "    nextrow = df_all[(df_all.source == row.source) & (df_all.person_id==row.person_id) & (df_all.frame_num == (row.frame_num+1))]\n",
                "    sampledf = sampledf.append(nextrow,ignore_index=True)\n",
                "\n",
                "sampledf.to_csv('Teacher401_40samples.csv')"
            ],
            "outputs": [],
            "metadata": {}
        },
        {
            "cell_type": "code",
            "execution_count": 152,
            "source": [
                "# Loop for copying target images \n",
                "imagesDirList = glob.glob('Teacher_401/videoframes_processed/*')\n",
                "for index, row in sampledf.iterrows():\n",
                "    identifier = row.source.split('.csv')[0][-6:]\n",
                "    for directory in imagesDirList:\n",
                "        if directory.endswith(identifier):\n",
                "            targetdirectory = directory\n",
                "    original = '/Users/paulhur/Documents/LAK22/'+str(glob.glob(targetdirectory+\"/*\"+str(int(row.frame_num))+\"_rendered.png\")[0])\n",
                "    target = '/Users/paulhur/Documents/LAK22/samples/'\n",
                "    shutil.copy(original, target)"
            ],
            "outputs": [],
            "metadata": {}
        }
    ],
    "metadata": {
        "orig_nbformat": 4,
        "language_info": {
            "name": "python",
            "version": "3.9.6",
            "mimetype": "text/x-python",
            "codemirror_mode": {
                "name": "ipython",
                "version": 3
            },
            "pygments_lexer": "ipython3",
            "nbconvert_exporter": "python",
            "file_extension": ".py"
        },
        "kernelspec": {
            "name": "python3",
            "display_name": "Python 3.9.6 64-bit"
        },
        "interpreter": {
            "hash": "aee8b7b246df8f9039afb4144a1f6fd8d2ca17a180786b69acc140d282b71a49"
        }
    },
    "nbformat": 4,
    "nbformat_minor": 2
}