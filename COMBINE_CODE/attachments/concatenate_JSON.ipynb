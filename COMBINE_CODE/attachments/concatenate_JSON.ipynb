{
 "cells": [
  {
   "cell_type": "code",
   "execution_count": 18,
   "source": [
    "import pandas as pd\r\n",
    "import glob\r\n",
    "import os\r\n",
    "\r\n",
    "#Concatenate All Json Files in Directory\r\n",
    "directory = glob.glob('C:\\\\Users\\\\khur4\\\\Documents\\\\one_minute_sampler\\\\Teacher\\\\_tracking_analysis\\\\json_raw\\\\*')\r\n",
    "print(directory[0])\r\n"
   ],
   "outputs": [
    {
     "output_type": "stream",
     "name": "stdout",
     "text": [
      "C:\\Users\\khur4\\Documents\\one_minute_sampler\\Teacher\\_tracking_analysis\\json_raw\\Teacher_103_14_03_04_Sony_72_Red_JSON\n"
     ]
    }
   ],
   "metadata": {}
  },
  {
   "cell_type": "code",
   "execution_count": 27,
   "source": [
    "for folder in directory:\r\n",
    "    os.chdir(folder)\r\n",
    "    listoflists = []\r\n",
    "    for file in glob.glob(folder+\"\\*.json\"):\r\n",
    "        sourcefile = '_'.join(file.split('_')[18:-2])\r\n",
    "        framenum = file.split('_')[-2]\r\n",
    "        data = pd.read_json(file)\r\n",
    "        for person in data['people']:\r\n",
    "            personlist = []\r\n",
    "            personlist.extend([sourcefile,framenum,-1])\r\n",
    "            for i in person['pose_keypoints_2d']:\r\n",
    "                personlist.extend([i])\r\n",
    "            listoflists.append(personlist)\r\n",
    "    df = pd.DataFrame.from_records(listoflists)\r\n",
    "    #Rename Columns\r\n",
    "    col_names = ['source_file', 'frame_num', 'person_id']\r\n",
    "    for i in range(1, 26):\r\n",
    "        col_names.extend(['keypoint' + str(i) + '_x', 'keypoint' + str(i) + '_y', 'keypoint' + str(i) + '_conf'])\r\n",
    "    df.columns = col_names\r\n",
    "\r\n",
    "    #Create CSV file to directory one above current directory to prevent the headache of moving files later\r\n",
    "    df.to_csv('../'+sourcefile+'.csv')"
   ],
   "outputs": [],
   "metadata": {}
  },
  {
   "cell_type": "code",
   "execution_count": null,
   "source": [],
   "outputs": [],
   "metadata": {}
  }
 ],
 "metadata": {
  "orig_nbformat": 4,
  "language_info": {
   "name": "python",
   "version": "3.9.5",
   "mimetype": "text/x-python",
   "codemirror_mode": {
    "name": "ipython",
    "version": 3
   },
   "pygments_lexer": "ipython3",
   "nbconvert_exporter": "python",
   "file_extension": ".py"
  },
  "kernelspec": {
   "name": "python3",
   "display_name": "Python 3.9.5 64-bit"
  },
  "interpreter": {
   "hash": "536a7669f7edd01f67ed499416f698e337376038de48b42dafebef9c2eb4a0cd"
  }
 },
 "nbformat": 4,
 "nbformat_minor": 2
}